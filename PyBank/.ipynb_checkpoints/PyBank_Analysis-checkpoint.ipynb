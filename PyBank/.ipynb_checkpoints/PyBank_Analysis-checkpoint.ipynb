{
 "cells": [
  {
   "cell_type": "code",
   "execution_count": 5,
   "id": "07f6ae96",
   "metadata": {},
   "outputs": [
    {
     "name": "stdout",
     "output_type": "stream",
     "text": [
      "Financial Analysis\n",
      "----------------------------\n",
      "Total Months: 86\n",
      "Total: 22564198\n",
      "Average Change: -8311.11\n",
      "Greatest Increase in Profits: Aug-16 ($1862002)\n",
      "Greatest Decrease in Profits: Feb-14 ($-1825558)\n"
     ]
    }
   ],
   "source": [
    "import os\n",
    "import csv\n",
    "import statistics as st\n",
    "\n",
    "num_months = 0\n",
    "total = 0\n",
    "change = []\n",
    "date_tracker = []\n",
    "avg_change = 0\n",
    "greatest_increase = 0\n",
    "increase_date = \"\"\n",
    "greatest_decrease = 0\n",
    "decrease_date = \"\"\n",
    "prev_val = 0\n",
    "headers = []\n",
    "\n",
    "csv_path = os.path.join('.', 'Resources', 'budget_data.csv')\n",
    "\n",
    "with open(csv_path, 'r') as file:\n",
    "    csv_reader = csv.reader(file, delimiter = ',')\n",
    "    \n",
    "    headers = next(csv_reader)\n",
    "    \n",
    "    counter = 0\n",
    "    \n",
    "    #calculates total entries, appends the changes between entries and associated dates\n",
    "    for row in csv_reader:\n",
    "        total += int(row[1])\n",
    "        num_months += 1\n",
    "        if counter > 0:\n",
    "            change.append(int(row[1]) - prev_val)\n",
    "            date_tracker.append(row[0])\n",
    "            \n",
    "        prev_val = int(row[1])\n",
    "        counter += 1\n",
    "    \n",
    "    #calculates the average change, greatest increase, and greatest decrease\n",
    "    avg_change = st.mean(change[:])\n",
    "    greatest_increase = max(change[:])\n",
    "    greatest_decrease = min(change[:])\n",
    "    \n",
    "    #retrieves the dates of greatest increase and decrease\n",
    "    increase_date = date_tracker[change.index(greatest_increase)]\n",
    "    decrease_date = date_tracker[change.index(greatest_decrease)]\n",
    "    \n",
    "    #prints results to terminal\n",
    "    print(f\"Financial Analysis\\n\"\n",
    "          f\"----------------------------\\n\"\n",
    "          f\"Total Months: {num_months}\\n\"\n",
    "          f\"Total: {total}\\n\"\n",
    "          f\"Average Change: {round(avg_change, 2)}\\n\"\n",
    "          f\"Greatest Increase in Profits: {increase_date} (${greatest_increase})\\n\"\n",
    "          f\"Greatest Decrease in Profits: {decrease_date} (${greatest_decrease})\")\n",
    "    \n",
    "    #writes results to .txt file\n",
    "    txt_path = os.path.join('.', 'analysis', 'budget_data_analysis.txt')\n",
    "    with open(txt_path, 'w') as file:\n",
    "        file.write(f\"Financial Analysis\\r\")\n",
    "        file.write(f\"----------------------------\\n\")\n",
    "        file.write(f\"Total Months: {num_months}\\r\")\n",
    "        file.write(f\"Total: {total}\\r\") \n",
    "        file.write(f\"Average Change: {round(avg_change, 2)}\\r\")\n",
    "        file.write(f\"Greatest Increase in Profits: {increase_date} ({greatest_increase})\\r\")\n",
    "        file.write(f\"Greatest Decrease in Profits: {decrease_date} ({greatest_decrease})\\r\")\n",
    "        \n",
    "    file.close()"
   ]
  },
  {
   "cell_type": "code",
   "execution_count": 3,
   "id": "c8810f58",
   "metadata": {},
   "outputs": [
    {
     "name": "stdout",
     "output_type": "stream",
     "text": [
      "['Date', 'Profit/Losses']\n"
     ]
    }
   ],
   "source": [
    "print(headers)"
   ]
  },
  {
   "cell_type": "code",
   "execution_count": null,
   "id": "037f83fb",
   "metadata": {},
   "outputs": [],
   "source": []
  }
 ],
 "metadata": {
  "kernelspec": {
   "display_name": "Python 3 (ipykernel)",
   "language": "python",
   "name": "python3"
  },
  "language_info": {
   "codemirror_mode": {
    "name": "ipython",
    "version": 3
   },
   "file_extension": ".py",
   "mimetype": "text/x-python",
   "name": "python",
   "nbconvert_exporter": "python",
   "pygments_lexer": "ipython3",
   "version": "3.11.4"
  }
 },
 "nbformat": 4,
 "nbformat_minor": 5
}
