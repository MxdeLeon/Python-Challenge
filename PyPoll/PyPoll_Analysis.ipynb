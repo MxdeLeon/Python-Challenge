{
 "cells": [
  {
   "cell_type": "code",
   "execution_count": 42,
   "id": "f6d49bca",
   "metadata": {},
   "outputs": [
    {
     "name": "stdout",
     "output_type": "stream",
     "text": [
      "Election Results\n",
      "-------------------------\n",
      "Charles Casper Stockham: 23.05% (85213)\n",
      "Diana DeGette: 73.81% (272892)\n",
      "Raymon Anthony Doane: 3.14% (11606)\n",
      "-------------------------\n",
      "Winner: Diana DeGette\n",
      "-------------------------\n",
      "\n"
     ]
    }
   ],
   "source": [
    "import os\n",
    "import csv\n",
    "\n",
    "total_votes = 0\n",
    "counter = 0\n",
    "candidates = {}\n",
    "c_names = []\n",
    "winner_votes = 0\n",
    "winner = \"\"\n",
    "headers = []\n",
    "\n",
    "csv_path = os.path.join('.', 'Resources', 'election_data.csv')\n",
    "\n",
    "with open(csv_path, 'r') as file:\n",
    "    csv_reader = csv.reader(file, delimiter = ',')\n",
    "    \n",
    "    headers = next(csv_reader)\n",
    "    \n",
    "    #adds candidate names as keys as well as adding up total votes per candidate and total overall votes\n",
    "    for row in csv_reader:\n",
    "        if row[2] not in candidates.keys():\n",
    "            candidates[row[2]] = [1, 0]\n",
    "        \n",
    "        elif row[2] in candidates.keys():\n",
    "            candidates[row[2]][0] += 1\n",
    "            \n",
    "        counter += 1\n",
    "    \n",
    "    #stores the candidates names in a list so that keys can be references later\n",
    "    c_names = candidates.keys()\n",
    "    \n",
    "    total_votes = counter\n",
    "    \n",
    "    #determines which candidate has the highest number of votes\n",
    "    for person in candidates:\n",
    "        candidates[person][1] = candidates[person][0] / counter\n",
    "        if candidates[person][0] > winner_votes:\n",
    "            winner_votes = candidates[person][0]\n",
    "    \n",
    "    #retrieves the name of the winning candidate\n",
    "    for key in candidates:\n",
    "        if winner_votes in candidates[key]:\n",
    "            winner = key\n",
    "\n",
    "    #prints results to terminal\n",
    "    print(f\"Election Results\\n\"\n",
    "          f\"-------------------------\")\n",
    "    for name in c_names:\n",
    "        print(f\"{name}: {(candidates[name][1]):.2%} ({candidates[name][0]})\")\n",
    "    print(f\"-------------------------\\n\"\n",
    "         f\"Winner: {winner}\\n\"\n",
    "         f\"-------------------------\\n\")\n",
    "\n",
    "    #writes results to .txt file\n",
    "    \n",
    "txt_path = os.path.join('.', 'analysis', 'election_data_analysis.txt')\n",
    "with open(txt_path, 'w') as file:\n",
    "    file.write(f\"Election Results\\n\"\n",
    "               f\"-------------------------\\n\")\n",
    "    for name in c_names:\n",
    "        file.write(f\"{name}: {(candidates[name][1]):.2%} ({candidates[name][0]})\\n\")\n",
    "    file.write(f\"-------------------------\\n\"\n",
    "               f\"Winner: {winner}\\n\"\n",
    "               f\"-------------------------\\n\")\n",
    "    \n",
    "    file.close()"
   ]
  },
  {
   "cell_type": "code",
   "execution_count": 38,
   "id": "2927b2b8",
   "metadata": {},
   "outputs": [
    {
     "name": "stdout",
     "output_type": "stream",
     "text": [
      "['Ballot ID', 'County', 'Candidate']\n"
     ]
    }
   ],
   "source": [
    "print(headers)"
   ]
  }
 ],
 "metadata": {
  "kernelspec": {
   "display_name": "Python 3 (ipykernel)",
   "language": "python",
   "name": "python3"
  },
  "language_info": {
   "codemirror_mode": {
    "name": "ipython",
    "version": 3
   },
   "file_extension": ".py",
   "mimetype": "text/x-python",
   "name": "python",
   "nbconvert_exporter": "python",
   "pygments_lexer": "ipython3",
   "version": "3.11.4"
  }
 },
 "nbformat": 4,
 "nbformat_minor": 5
}
